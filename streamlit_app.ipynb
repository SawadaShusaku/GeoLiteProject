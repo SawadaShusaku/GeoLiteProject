{
 "cells": [
  {
   "cell_type": "markdown",
   "metadata": {},
   "source": [
    "以下を実行したらngrokでも使える。使う意味は、不明・・・\n",
    "\n",
    "ngrok config add-authtoken <authtoken>  \n",
    "ngrok http 8501  \n",
    "https://zenn.dev/manase/articles/03df0e18c93755"
   ]
  },
  {
   "cell_type": "code",
   "execution_count": null,
   "metadata": {},
   "outputs": [],
   "source": [
    "import streamlit as st\n",
    "from pyngrok import ngrok\n",
    "\n",
    "def main():\n",
    "    st.title(\"ハロー Streamlit App\")\n",
    "    st.write(\"Welcome to Streamlit!\")\n",
    "    st.balloons()\n",
    "\n",
    "if __name__ == \"__main__\":\n",
    "    main()"
   ]
  },
  {
   "cell_type": "code",
   "execution_count": 19,
   "metadata": {},
   "outputs": [
    {
     "name": "stdout",
     "output_type": "stream",
     "text": [
      "https://7b98-240f-33-610c-1-8575-7484-6f3e-459e.ngrok-free.app\n"
     ]
    }
   ],
   "source": [
    "#ngrokを使用して8501ポートのローカルにアプリを起動\n",
    "ngrok.kill()  # プロセスの修了\n",
    "url = ngrok.connect(\"8501\").public_url  # 接続\n",
    "\n",
    "print(url)"
   ]
  },
  {
   "cell_type": "markdown",
   "metadata": {},
   "source": [
    "ngrok authtoken 2m6mzGqVNJqMcGIRtH6qoel1Fxl_9MevbWseMX8DssDbksvY\n",
    "<br>↑をターミナルに打ち込みトークンを登録する"
   ]
  },
  {
   "cell_type": "markdown",
   "metadata": {},
   "source": [
    "!streamlit run streamlit_app.py &>/dev/null&  <br>#「&>/dev/null&」により、出力を非表示にしてバックグランドジョブとして実行\n",
    " ##### これはローカルで起動するコマンドに、出力非表示コマンドを追加している"
   ]
  }
 ],
 "metadata": {
  "kernelspec": {
   "display_name": "Python 3",
   "language": "python",
   "name": "python3"
  },
  "language_info": {
   "codemirror_mode": {
    "name": "ipython",
    "version": 3
   },
   "file_extension": ".py",
   "mimetype": "text/x-python",
   "name": "python",
   "nbconvert_exporter": "python",
   "pygments_lexer": "ipython3",
   "version": "3.12.6"
  }
 },
 "nbformat": 4,
 "nbformat_minor": 2
}
